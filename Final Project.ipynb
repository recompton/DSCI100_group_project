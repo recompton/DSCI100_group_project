{
 "cells": [
  {
   "cell_type": "code",
   "execution_count": 1,
   "id": "bccf4018-8646-4621-b1b2-e24f709c9065",
   "metadata": {},
   "outputs": [
    {
     "name": "stderr",
     "output_type": "stream",
     "text": [
      "Warning message:\n",
      "“package ‘ggplot2’ was built under R version 4.3.2”\n",
      "── \u001b[1mAttaching core tidyverse packages\u001b[22m ──────────────────────── tidyverse 2.0.0 ──\n",
      "\u001b[32m✔\u001b[39m \u001b[34mdplyr    \u001b[39m 1.1.3     \u001b[32m✔\u001b[39m \u001b[34mreadr    \u001b[39m 2.1.4\n",
      "\u001b[32m✔\u001b[39m \u001b[34mforcats  \u001b[39m 1.0.0     \u001b[32m✔\u001b[39m \u001b[34mstringr  \u001b[39m 1.5.0\n",
      "\u001b[32m✔\u001b[39m \u001b[34mggplot2  \u001b[39m 3.5.0     \u001b[32m✔\u001b[39m \u001b[34mtibble   \u001b[39m 3.2.1\n",
      "\u001b[32m✔\u001b[39m \u001b[34mlubridate\u001b[39m 1.9.2     \u001b[32m✔\u001b[39m \u001b[34mtidyr    \u001b[39m 1.3.0\n",
      "\u001b[32m✔\u001b[39m \u001b[34mpurrr    \u001b[39m 1.0.2     \n",
      "── \u001b[1mConflicts\u001b[22m ────────────────────────────────────────── tidyverse_conflicts() ──\n",
      "\u001b[31m✖\u001b[39m \u001b[34mdplyr\u001b[39m::\u001b[32mfilter()\u001b[39m masks \u001b[34mstats\u001b[39m::filter()\n",
      "\u001b[31m✖\u001b[39m \u001b[34mdplyr\u001b[39m::\u001b[32mlag()\u001b[39m    masks \u001b[34mstats\u001b[39m::lag()\n",
      "\u001b[36mℹ\u001b[39m Use the conflicted package (\u001b[3m\u001b[34m<http://conflicted.r-lib.org/>\u001b[39m\u001b[23m) to force all conflicts to become errors\n",
      "── \u001b[1mAttaching packages\u001b[22m ────────────────────────────────────── tidymodels 1.1.1 ──\n",
      "\n",
      "\u001b[32m✔\u001b[39m \u001b[34mbroom       \u001b[39m 1.0.5     \u001b[32m✔\u001b[39m \u001b[34mrsample     \u001b[39m 1.2.0\n",
      "\u001b[32m✔\u001b[39m \u001b[34mdials       \u001b[39m 1.2.0     \u001b[32m✔\u001b[39m \u001b[34mtune        \u001b[39m 1.1.2\n",
      "\u001b[32m✔\u001b[39m \u001b[34minfer       \u001b[39m 1.0.5     \u001b[32m✔\u001b[39m \u001b[34mworkflows   \u001b[39m 1.1.3\n",
      "\u001b[32m✔\u001b[39m \u001b[34mmodeldata   \u001b[39m 1.2.0     \u001b[32m✔\u001b[39m \u001b[34mworkflowsets\u001b[39m 1.0.1\n",
      "\u001b[32m✔\u001b[39m \u001b[34mparsnip     \u001b[39m 1.1.1     \u001b[32m✔\u001b[39m \u001b[34myardstick   \u001b[39m 1.2.0\n",
      "\u001b[32m✔\u001b[39m \u001b[34mrecipes     \u001b[39m 1.0.8     \n",
      "\n",
      "── \u001b[1mConflicts\u001b[22m ───────────────────────────────────────── tidymodels_conflicts() ──\n",
      "\u001b[31m✖\u001b[39m \u001b[34mscales\u001b[39m::\u001b[32mdiscard()\u001b[39m masks \u001b[34mpurrr\u001b[39m::discard()\n",
      "\u001b[31m✖\u001b[39m \u001b[34mdplyr\u001b[39m::\u001b[32mfilter()\u001b[39m   masks \u001b[34mstats\u001b[39m::filter()\n",
      "\u001b[31m✖\u001b[39m \u001b[34mrecipes\u001b[39m::\u001b[32mfixed()\u001b[39m  masks \u001b[34mstringr\u001b[39m::fixed()\n",
      "\u001b[31m✖\u001b[39m \u001b[34mdplyr\u001b[39m::\u001b[32mlag()\u001b[39m      masks \u001b[34mstats\u001b[39m::lag()\n",
      "\u001b[31m✖\u001b[39m \u001b[34myardstick\u001b[39m::\u001b[32mspec()\u001b[39m masks \u001b[34mreadr\u001b[39m::spec()\n",
      "\u001b[31m✖\u001b[39m \u001b[34mrecipes\u001b[39m::\u001b[32mstep()\u001b[39m   masks \u001b[34mstats\u001b[39m::step()\n",
      "\u001b[34m•\u001b[39m Dig deeper into tidy modeling with R at \u001b[32mhttps://www.tmwr.org\u001b[39m\n",
      "\n",
      "Warning message in file(filename, \"r\", encoding = encoding):\n",
      "“cannot open file 'tests.R': No such file or directory”\n"
     ]
    },
    {
     "ename": "ERROR",
     "evalue": "Error in file(filename, \"r\", encoding = encoding): cannot open the connection\n",
     "output_type": "error",
     "traceback": [
      "Error in file(filename, \"r\", encoding = encoding): cannot open the connection\nTraceback:\n",
      "1. source(\"tests.R\")",
      "2. file(filename, \"r\", encoding = encoding)"
     ]
    }
   ],
   "source": [
    "library(tidyverse)\n",
    "library(repr)\n",
    "library(tidymodels)\n",
    "source(\"tests.R\")\n",
    "source('cleanup.R')\n",
    "set.seed(1000)"
   ]
  },
  {
   "cell_type": "markdown",
   "id": "c7eb9825-67eb-46f5-a55b-90a8983ef5f8",
   "metadata": {},
   "source": [
    "Pollutant levels or concentrations in the atmosphere lead to changes in the climate such as an increase in temperature and humidity levels. Measuring atmospheric pollutant concentrations requires air quality monitors and satellite imagery. Using other predictors such as temperature and humidity levels to determine concentration could be effective and less costly. This project aims to assess whether a linear regression model can be used to predict the average daily chemical concentration of tungsten oxide given averages of relative humidity, absolute humidity and temperature.\n",
    "\n",
    "The data used was collected in an Italian city every hour in 2004, resulting in 9358 total observations in the dataset. The variables are: date, time, temperature (T), absolute humidity (AH), relative humidity (RH), and concentrations for carbon monoxide (CO), tin oxide (PT08.S1), non-methane hydrocarbons (NMHC), benzene (C6H6), titania (PT08.S1), nitric oxides (NOx, where x= 1,2,3, or 4), tungsten oxide (PT08.S3(NOx), and PT08.S4(NO2)), nitrogen dioxide(NO2), and indium oxide (PT08.S5)."
   ]
  },
  {
   "cell_type": "code",
   "execution_count": null,
   "id": "eaa10ffe-5245-466b-8972-4d59d4745c2c",
   "metadata": {},
   "outputs": [],
   "source": [
    "air_quality <- read_csv(\"https://raw.githubusercontent.com/recompton/DSCI100_group_project/main/AirQualityUCI.csv?token=GHSAT0AAAAAACPKFCCOAGKVC5S4EIWAUNNAZPMZKGA\")\n",
    "head(air_quality)"
   ]
  },
  {
   "cell_type": "markdown",
   "id": "58bfc1d8-e415-40e7-aa17-802fe01f7cfe",
   "metadata": {},
   "source": [
    "Before starting the analysis, we tidied our data with a single pollutant column, since we are only looking at tungsten oxide. In an ideal situation, we expect 365 observations in our wrangled data. During wrangling, we changed the pollutant column name from PT08.S4(NO2) to PT08.S4_NO2, as R was interpreting the name as a function. The format of the date was also changed from year/month/day to month-day-year, and split into 3 columns to compute the daily average. The data also had extraneous rows and columns which were removed. There were 130 rows with no values, and two columns labeled 16 and 17 which only had NA listed in every row."
   ]
  },
  {
   "cell_type": "code",
   "execution_count": null,
   "id": "a33e71e1-57d2-400f-909c-5ef64c7cf85f",
   "metadata": {},
   "outputs": [],
   "source": [
    "air_quality_1 <- mutate(air_quality, Date = mdy(Date))\n",
    "head(air_quality_1)"
   ]
  },
  {
   "cell_type": "code",
   "execution_count": null,
   "id": "df194d8a-d485-429c-8051-0835e70658e8",
   "metadata": {},
   "outputs": [],
   "source": [
    "air_quality_2 <- air_quality_1 |>\n",
    "mutate(year = year(Date),\n",
    "month = month(Date),\n",
    "day = day(Date))\n",
    "\n",
    "head(air_quality_2)"
   ]
  },
  {
   "cell_type": "code",
   "execution_count": null,
   "id": "c9e71eee-adff-4f26-a508-97aea077c404",
   "metadata": {},
   "outputs": [],
   "source": [
    "sliced_air_quality <- air_quality_2 |>\n",
    "slice(1:9357) \n",
    "\n",
    "\n",
    "head(sliced_air_quality)"
   ]
  },
  {
   "cell_type": "code",
   "execution_count": null,
   "id": "c4952a3e-6c3a-4e98-a12d-42ac1ef7b755",
   "metadata": {},
   "outputs": [],
   "source": [
    "avg_air_quality <- sliced_air_quality |>\n",
    "filter(PT08.S4_NO2\t != -200)|>\n",
    "filter(T != -200) |>\n",
    "filter(RH != -200) |>\n",
    "filter(AH != -200) |>\n",
    "group_by(month, day) |>\n",
    "summarize(\n",
    "    daily_avg_TO = mean(PT08.S4_NO2, na.rm = TRUE),\n",
    "    daily_avg_T = mean(T, na.rm = TRUE),\n",
    "    daily_avg_RH = mean(RH, na.rm = TRUE),\n",
    "    daily_avg_AH = mean(AH, na.rm = TRUE))\n",
    "\n",
    "\n",
    "avg_air_quality_split <- initial_split(avg_air_quality, prop = 0.75, strata = daily_avg_TO)\n",
    "avg_air_quality_train <- training(avg_air_quality_split)\n",
    "avg_air_quality_test <- testing(avg_air_quality_split)\n",
    "\n",
    "avg_air_quality_train\n",
    "avg_air_quality_test"
   ]
  },
  {
   "cell_type": "code",
   "execution_count": null,
   "id": "e1701f0b-fd60-4877-9cdc-ded3224da951",
   "metadata": {},
   "outputs": [],
   "source": [
    "num_rows <- nrow(avg_air_quality_train)\n",
    "num_rows"
   ]
  },
  {
   "cell_type": "markdown",
   "id": "8c068cb2-0648-4d5c-9f7c-9c0defbf9f72",
   "metadata": {},
   "source": [
    "We chose PT08.S4(NO2) because it has 357 rows total (265 in the training data) after filtering out the NA (-200) values. Additionally, this chemical showed promise for a good correlation when visualizing its relationship with RH, AH and T in our preliminary exploratory analysis. To make our analysis reproducible, we set the seed to 1000.\n",
    "\n",
    "To visualize the outcome of the regression model, we will have 3 scatterplots with AH, RH and temperature on the x-axis and concentration of tungsten oxide on the y-axis. We will also include a regression line in each plot."
   ]
  },
  {
   "cell_type": "code",
   "execution_count": null,
   "id": "95d6a92f-d3bb-4bdf-ad71-f6b344ce2092",
   "metadata": {},
   "outputs": [],
   "source": [
    "options(repr.plot.width = 10, repr.plot.height = 10)\n",
    "\n",
    "ggplot(avg_air_quality_train, aes(x = daily_avg_T, y = daily_avg_TO)) +\n",
    "  geom_point() +\n",
    "  labs(title = \"Daily Tungsten Oxide Average vs. Daily Temperature Average\",\n",
    "       x = \"Daily Temperature Average\",\n",
    "       y = \"Daily Tungsten Oxide Average\") +\n",
    "theme(text = element_text(size = 18))\n",
    "\n",
    "ggplot(avg_air_quality_train, aes(x = daily_avg_RH, y = daily_avg_TO)) +\n",
    "  geom_point() +\n",
    "  labs(title = \"Daily Tungsten Oxide Average vs. Daily Relative Humidity Average\",\n",
    "       x = \"Daily Relative Humidity Average\",\n",
    "       y = \"Daily Tungsten Oxide Average\") +\n",
    "theme(text = element_text(size = 18))\n",
    "\n",
    "ggplot(avg_air_quality_train, aes(x = daily_avg_AH, y = daily_avg_TO)) +\n",
    "  geom_point() +\n",
    "  labs(title = \"Daily Tungsten Oxide Average vs. Daily Absolute Humidity Average\",\n",
    "       x = \"Daily Absolute Humidity Average\",\n",
    "       y = \"Daily Tungsten Oxide Average\") + \n",
    "theme(text = element_text(size = 18))"
   ]
  },
  {
   "cell_type": "markdown",
   "id": "ef2e4d33-a9b9-4a5c-8a79-bbe835dc4c34",
   "metadata": {},
   "source": [
    "Following our data analysis and visualization, we expect to find that as temperature and humidity levels increase, more levels of tungsten oxide will be present in the atmosphere. We also expect chemical accumulation in the atmosphere over time, resulting in a regression line with a positive slope.These findings can be useful in determining how pollutant levels change overtime and if temperature and humidity levels can be good predictors. If they are not good predictors, then there will not be a clear relationship. These findings could also lead to questions such as: If we expanded the study by year from 2004 to 2022, would a relationship be more prominent? What are the large scale effects of pollutant accumulation? Are there any other factors besides pollutant accumulation which lead to increase AH, RH or temperature?"
   ]
  },
  {
   "cell_type": "code",
   "execution_count": null,
   "id": "f5e8725b-5f33-4d81-b12d-70aa76787300",
   "metadata": {},
   "outputs": [],
   "source": []
  }
 ],
 "metadata": {
  "kernelspec": {
   "display_name": "R",
   "language": "R",
   "name": "ir"
  },
  "language_info": {
   "codemirror_mode": "r",
   "file_extension": ".r",
   "mimetype": "text/x-r-source",
   "name": "R",
   "pygments_lexer": "r",
   "version": "4.3.1"
  }
 },
 "nbformat": 4,
 "nbformat_minor": 5
}
